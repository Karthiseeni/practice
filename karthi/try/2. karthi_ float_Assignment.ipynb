{
 "cells": [
  {
   "cell_type": "code",
   "execution_count": null,
   "metadata": {
    "colab": {},
    "colab_type": "code",
    "id": "dlrMB-Qy2taV"
   },
   "outputs": [],
   "source": [
    "#Declare a float value and store it in a variable. \n",
    "\n",
    "a=10.30\n",
    "\n",
    "\n",
    "\n",
    "\n",
    "#Check the type and print the id of the same.\n",
    "print(type(a))\n",
    "print(id(a))\n",
    "\n"
   ]
  },
  {
   "cell_type": "code",
   "execution_count": 3,
   "metadata": {
    "colab": {},
    "colab_type": "code",
    "id": "IL4fVDHg2wbI",
    "scrolled": false
   },
   "outputs": [
    {
     "name": "stdout",
     "output_type": "stream",
     "text": [
      "Enter the first value\t:5.6\n",
      "Enter the second value\t:4.2\n",
      "SUM\t\t:9.8\n",
      "Difference\t:1.3999999999999995\n",
      "Product\t\t:23.52\n",
      "Float division\t:1.3333333333333333\n",
      "Quaotient\t:1.0\n",
      "Exponent\t:3091.6906049552113\n",
      "Remainder\t:1.3999999999999995\n"
     ]
    }
   ],
   "source": [
    "#Arithmatic Operations on float\n",
    "#Take two different float values.\n",
    "#Store them in two different variables.\n",
    "a=float(input('Enter the first value\\t:'))\n",
    "b=float(input('Enter the second value\\t:'))\n",
    "#Do below operations on them:-\n",
    "    #Find sum of both numbers\n",
    "c=a+b\n",
    "    #Find differce between them\n",
    "d=a-b \n",
    "    #Find the product of both numbers.\n",
    "e=a*b\n",
    "\n",
    "    #Find value after dividing first num with second number\n",
    "f=a/b\n",
    "\n",
    "    #Find the remainder after dividing first number with second number\n",
    "i=a%b\n",
    "    #Find the quotient after dividing first number with second number\n",
    "g=a//b\n",
    "    #Find the result of first num to the power of second number.\n",
    "h=b**a\n",
    "print(f'SUM\\t\\t:{c}\\nDifference\\t:{d}\\nProduct\\t\\t:{e}\\nFloat division\\t:{f}\\nQuaotient\\t:{g}\\nExponent\\t:{h}\\nRemainder\\t:{i}')\n",
    "\n",
    "    "
   ]
  },
  {
   "cell_type": "code",
   "execution_count": 2,
   "metadata": {
    "colab": {},
    "colab_type": "code",
    "id": "atCFaH6c2492"
   },
   "outputs": [
    {
     "name": "stdout",
     "output_type": "stream",
     "text": [
      "Enter the first value\t:5.6\n",
      "Enter the second value\t:2.5\n",
      "Greater than\t\t:True\n",
      "Smaller than\t\t:False\n",
      "Greater than or equal to:True\n",
      "Less than or equal to\t:False\n"
     ]
    }
   ],
   "source": [
    "#Comparison Operators on float\n",
    "#Take two different float values.\n",
    "#Store them in two different variables.\n",
    "\n",
    "#Do below operations on them:-\n",
    "    #Compare these two numbers with below operator:-\n",
    "        #Greater than, '>'\n",
    "\n",
    "        #Smaller than, '<'\n",
    "\n",
    "        #Greater than or equal to, '>='\n",
    "\n",
    "        #Less than or equal to, '<='\n",
    "\n",
    "#Observe their output(return type should be boolean)\n",
    "\n",
    "a=float(input('Enter the first value\\t:'))\n",
    "b=float(input('Enter the second value\\t:'))\n",
    "print (f'Greater than\\t\\t:{a>b}\\nSmaller than\\t\\t:{a<b}\\nGreater than or equal to:{a>=b}\\nLess than or equal to\\t:{a<=b}' )\n",
    "\n",
    "\n",
    "\n",
    "\n",
    "\n",
    "\n"
   ]
  },
  {
   "cell_type": "code",
   "execution_count": 3,
   "metadata": {
    "colab": {},
    "colab_type": "code",
    "id": "agi3U3863A5i"
   },
   "outputs": [
    {
     "name": "stdout",
     "output_type": "stream",
     "text": [
      "Enter the first value\t:6.4\n",
      "Enter the second value\t:3.6\n",
      "Equal\t\t\t:False\n",
      "Notequal\t\t:True\n"
     ]
    }
   ],
   "source": [
    "#Equality Operator\n",
    "#Take two different float values.\n",
    "#Store them in two different variables.\n",
    "\n",
    "#Equuate them using equality operator (==, !=)\n",
    "\n",
    "#Observe the output(return type should be boolean)\n",
    "a=float(input('Enter the first value\\t:'))\n",
    "b=float(input('Enter the second value\\t:'))\n",
    "print(f'Equal\\t\\t\\t:{a==b}\\nNotequal\\t\\t:{a!=b}')\n",
    "\n",
    "\n",
    "\n",
    "\n",
    "\n"
   ]
  },
  {
   "cell_type": "code",
   "execution_count": null,
   "metadata": {
    "colab": {},
    "colab_type": "code",
    "id": "3HLlgaEt3EnJ"
   },
   "outputs": [],
   "source": [
    "#Logical operators\n",
    "#Observe the output of below code\n",
    "#Cross check the output manually\n",
    "\n",
    "print(10.20 and 20.30)       #both are true and second value taken >Output is 20.3\n",
    "print(0.0 and 20.30)         #First is false so first value taken->Output is 0.0\n",
    "print(20.30 and 0.0)         #Goes to till second and second value is false so second is taken>Output is 0.0\n",
    "print(0.0 and 0.0)           #First is false so first value is taken->Output is 0.0\n",
    "\n",
    "print(10.20 or 20.30)        #First is True so first value is taken>Output is 10.2\n",
    "print(0.0 or 20.30)          #Goes to till second and second is true second value is taken->Output is 20.3\n",
    "print(20.30 or 0.0)          #First is True so first value is taken->Output is 20.3\n",
    "print(0.0 or 0.0)            #Goes to till second and secod is also false and second value is taken>Output is 0.0\n",
    "\n",
    "print(not 10.20)             #-Not of true is false->Output is False\n",
    "print(not 0.0)               #Not of false is True>Output is True\n",
    "\n",
    "# ManuallyChecking:\n",
    "#    note: Basically and fuction searches false only, if one of them flase returns false value else returns true value\n",
    "#     1) 10 is ture and 20 is true then the 20 is printing\n",
    "#     2)  0 is false and 20 is true then the 0 is printing\n",
    "#     3) 20 is ture and 0 is false then the 0 is printing\n",
    "#     4) 0 is false and 0 is false then the 0 is printing\n",
    "#   note: Basically or fuction searches true only, if one of them true returns ture value else returns flase value\n",
    "#     5) 10 is ture or 20 is true then the 10 is printing\n",
    "#     6) 0 is false or 20 is true then the 20 is printing\n",
    "#     7) 20 is ture or 0 is false then the 20 is printing\n",
    "#     8) 0 is false or 0 is false then the 0 is printing\n",
    "#   note: not operator returns only True or Flase, if value true returs flase else returns true\n",
    "#     9) not 10 this true value but the returns flase\n",
    "#     10)not 0 this false value but the returns true"
   ]
  },
  {
   "cell_type": "code",
   "execution_count": 6,
   "metadata": {
    "colab": {},
    "colab_type": "code",
    "id": "7YdyRNtk3UZd"
   },
   "outputs": [
    {
     "name": "stdout",
     "output_type": "stream",
     "text": [
      "False\n",
      "True\n",
      "505069818288 505051153936\n"
     ]
    }
   ],
   "source": [
    "#What is the output of expression inside print statement. Cross check before running the program.\n",
    "a = 10.20\n",
    "b = 10.20               #Gives Syntax Error\n",
    "print(a is b)          #True or False? True 10.20<256\n",
    "print(a is not b)      #True or False? False\n",
    "\n",
    "\n",
    "# Why the Id of float values are different when the same value is assigned to two different variables\n",
    "    #in float the value will be different, object reusability concept for float will not satisfy\n",
    "# ex: a = 10.5 b=10.5. but id will be same if I assign the variable having float i.e. a=c then both a anc c's\n",
    "# Id are same\n",
    "   #In here the variable are equal and the assigned value of c is a that's the reason for showing same ID for a and c \n"
   ]
  },
  {
   "cell_type": "code",
   "execution_count": null,
   "metadata": {
    "colab": {},
    "colab_type": "code",
    "id": "iTvnIMLd3VLW"
   },
   "outputs": [],
   "source": [
    "#Bitwise operation is not applicable between instances of float.\n",
    "## Why the Id of float values are different when the same value is assigned to two different variables\n",
    "## ex: a = 10.5 b=10.5. but id will be same if I assign the variable having float i.e. a=c then both a anc c's\n",
    "## Id are same\n",
    "#Object reusability concept is not applicable on float values."
   ]
  },
  {
   "cell_type": "code",
   "execution_count": null,
   "metadata": {
    "colab": {},
    "colab_type": "code",
    "id": "29AVJHpx3YUo"
   },
   "outputs": [],
   "source": [
    "#Membership operation\n",
    "#in, not in are two membership operators and it returns boolean value\n",
    "\n",
    "print('2.7' in 'Python2.7.8')              #True\n",
    "print(10.20 in [10,10.20,10+20j,'Python']) #True\n",
    "print(10.20 in (10,10.20,10+20j,'Python')) # True\n",
    "print(20.30 in {1,20.30,30+40j})           # True\n",
    "print(2.3 in {1:100, 2.3:200, 30+40j:300}) # True\n",
    "print(10 in range(20))                     # True"
   ]
  }
 ],
 "metadata": {
  "colab": {
   "name": "Copy of float_assignment.ipynb",
   "provenance": [
    {
     "file_id": "1M6Pl0S40J_yaLQtCoOeeEANYc_4k6uoA",
     "timestamp": 1593506553403
    }
   ]
  },
  "kernelspec": {
   "display_name": "Python 3",
   "language": "python",
   "name": "python3"
  },
  "language_info": {
   "codemirror_mode": {
    "name": "ipython",
    "version": 3
   },
   "file_extension": ".py",
   "mimetype": "text/x-python",
   "name": "python",
   "nbconvert_exporter": "python",
   "pygments_lexer": "ipython3",
   "version": "3.7.6"
  }
 },
 "nbformat": 4,
 "nbformat_minor": 1
}
