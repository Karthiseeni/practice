{
 "cells": [
  {
   "cell_type": "code",
   "execution_count": 2,
   "metadata": {
    "colab": {},
    "colab_type": "code",
    "id": "8A5Jw5NR1iEI"
   },
   "outputs": [
    {
     "name": "stdout",
     "output_type": "stream",
     "text": [
      "<class 'int'>\n",
      "140719668110000\n"
     ]
    }
   ],
   "source": [
    "#Declare an int value and store it in a variable. \n",
    "\n",
    "a=10\n",
    "\n",
    "\n",
    "#Check the type and print the id of the same.\n",
    "print(type(a))\n",
    "print(id(a))"
   ]
  },
  {
   "cell_type": "code",
   "execution_count": 14,
   "metadata": {
    "colab": {},
    "colab_type": "code",
    "id": "0YU8LFTn1rAX"
   },
   "outputs": [
    {
     "name": "stdout",
     "output_type": "stream",
     "text": [
      "140707525862064 140707525862064\n",
      "\n",
      "35668556880 35668556912\n"
     ]
    }
   ],
   "source": [
    "#Take one int value between 0 - 256.\n",
    "#Assign it to two different variables.\n",
    "#Check the id of both the variables. It should come same. Check why?\n",
    "a=10\n",
    "d=10\n",
    "print(id(a),id(d))\n",
    "#Because the value of a and d is similar and it is in between the 0 to 256\n",
    "#object reusability\n",
    "print()\n",
    "#Take one int value either less than -5 or greater than 256.\n",
    "#Assign it to two different variables.\n",
    "#Check the id of both the variables. It should come different.Check why?\n",
    "\n",
    "b=-56\n",
    "c=-56\n",
    "print(id(b),id(c))\n",
    "#Because the value of a and b is similar but that are out of ranged from 0 to 256"
   ]
  },
  {
   "cell_type": "code",
   "execution_count": 1,
   "metadata": {
    "colab": {},
    "colab_type": "code",
    "id": "YzEIG0ZZ1tSK"
   },
   "outputs": [
    {
     "name": "stdout",
     "output_type": "stream",
     "text": [
      "8 2 15 1.6666666666666667 2 1 243\n"
     ]
    }
   ],
   "source": [
    "#Arithmatic Operations on integers\n",
    "#Take two different intger values.\n",
    "#Store them in two different variables.\n",
    "#Do below operations on them:-\n",
    "    #Find sum of both numbers\n",
    "    #Find differce between them\n",
    "    #Find the product of both numbers.\n",
    "    #Find value after dividing first num with second number\n",
    "    #Find the remainder after dividing first number with second number\n",
    "    #Find the quotient after dividing first number with second number\n",
    "    #Find the result of first num to the power of second number.\n",
    "\n",
    "a=5\n",
    "b=3\n",
    "c=a+b\n",
    "d=a-b\n",
    "e=a*b\n",
    "f=a/b\n",
    "i=a%b\n",
    "g=a//b\n",
    "h=b**a\n",
    "\n",
    "print(c,d,e,f,i,g,h)    \n",
    "    "
   ]
  },
  {
   "cell_type": "code",
   "execution_count": 3,
   "metadata": {
    "colab": {},
    "colab_type": "code",
    "id": "GGM7CdzA1wGn"
   },
   "outputs": [
    {
     "name": "stdout",
     "output_type": "stream",
     "text": [
      "False True False True\n"
     ]
    }
   ],
   "source": [
    "#Comparison Operators on integers\n",
    "#Take two different intger values.\n",
    "#Store them in two different variables.\n",
    "#Do below operations on them:-\n",
    "    #Compare se two numbers with below operator:-\n",
    "        #Greater than, '>'\n",
    "        #Smaller than, '<'\n",
    "        #Greater than or equal to, '>='\n",
    "        #Less than or equal to, '<='\n",
    "#Observe their output(return type should be boolean)\n",
    "\n",
    "a=4\n",
    "b=5\n",
    "c=(a>b)\n",
    "d=(a<b)\n",
    "e=(a>=b)\n",
    "f=(a<=b) \n",
    "print(c,d,e,f)    \n",
    "\n"
   ]
  },
  {
   "cell_type": "code",
   "execution_count": 1,
   "metadata": {
    "colab": {},
    "colab_type": "code",
    "id": "9x904sUE1y9t"
   },
   "outputs": [
    {
     "name": "stdout",
     "output_type": "stream",
     "text": [
      "False True\n"
     ]
    }
   ],
   "source": [
    "#Equality Operator\n",
    "#Take two different intger values.\n",
    "#Store them in two different variables.\n",
    "#Equuate them using equality operator (==, !=)\n",
    "#Observe the output(return type should be boolean)\n",
    "\n",
    "a=3\n",
    "b=4\n",
    "c=(a==b)\n",
    "d=(a!=b)\n",
    "print (c,d)"
   ]
  },
  {
   "cell_type": "code",
   "execution_count": null,
   "metadata": {
    "colab": {},
    "colab_type": "code",
    "id": "JmQFHUwc11S-"
   },
   "outputs": [],
   "source": [
    "#Logical operators\n",
    "#Observe the output of below code\n",
    "#Cross check the output manually\n",
    "\n",
    "print(10 and 20)       #----------------------------------------->Output is 20\n",
    "print(0 and 20)        #----------------------------------------->Output is 0\n",
    "print(20 and 0)        #----------------------------------------->Output is 0\n",
    "print(0 and 0)         #----------------------------------------->Output is 0\n",
    "\n",
    "print(10 or 20)        #----------------------------------------->Output is 10\n",
    "print(0 or 20)         #----------------------------------------->Output is 20\n",
    "print(20 or 0)         #----------------------------------------->Output is 20\n",
    "print(0 or 0)          #----------------------------------------->Output is 0\n",
    "\n",
    "print(not 10)          #----------------------------------------->Output is False\n",
    "print(not 0)           #----------------------------------------->Output is True\n",
    "\n",
    "# ManuallyChecking:\n",
    "#    note: Basically AND fuction searches false, if one of them flase, returns false else returns true .\n",
    "#     1) 10 is ture and 20 is true then the 20 is printing\n",
    "#     2)  0 is false and 20 is true then the 0 is printing\n",
    "#     3) 20 is ture and 0 is false then the 0 is printing\n",
    "#     4) 0 is false and 0 is false then the 0 is printing\n",
    "#   note: Basically OR fuction searches true only, if one of them true returns ture value else returns flase value\n",
    "#     5) 10 is ture or 20 is true then the 10 is printing\n",
    "#     6) 0 is false or 20 is true then the 20 is printing\n",
    "#     7) 20 is ture or 0 is false then the 20 is printing\n",
    "#     8) 0 is false or 0 is false then the 0 is printing\n",
    "#   note: not operator returns only True or Flase, if value true returs flase else returns true\n",
    "#     9) not 10 this true value but the returns flase\n",
    "#     10)not 0 this false value but the returns true\n",
    "  "
   ]
  },
  {
   "cell_type": "code",
   "execution_count": null,
   "metadata": {
    "colab": {},
    "colab_type": "code",
    "id": "-0tvoulX14Hi"
   },
   "outputs": [],
   "source": [
    "#Bitwise Operators\n",
    "#Do below operations on the values provided below:-\n",
    "    #Bitwise and(&) -----------------------------------------> 10, 20   -------> Output is 0\n",
    "    #Bitwise or(|)  -----------------------------------------> 10, 20   -------> Output is 30\n",
    "    #Bitwise(^)     -----------------------------------------> 10, 20   -------> Output is 30\n",
    "    #Bitwise negation(~) ------------------------------------> 10       -------> Output is -11\n",
    "    #Bitwise left shift  ------------------------------------> 10,2     -------> Output is 40\n",
    "    #Bitwise right shift ------------------------------------> 10,2     -------> Output is 2\n",
    "#Cross check the output manually\n",
    "\n",
    "# 10 --------------> 01010\n",
    "# 20 --------------> 10100\n",
    "# ----------------------------\n",
    "# Bitwise and(&)---> 00000 --------------> 0\n",
    "# Bitwise or(|)----> 11110 -------------->30\n",
    "# Bitwise(^)  -----> 11110 -------------->30\n",
    "#Bitwise negation(~)~n=~10=-(10+1)------>-11\n",
    "#left shift (10<<2) = 101000------------> 40\n",
    "#right shift (10>>2)= 0010-------------->  2\n"
   ]
  },
  {
   "cell_type": "code",
   "execution_count": null,
   "metadata": {
    "colab": {},
    "colab_type": "code",
    "id": "YCcx-Qx016hg"
   },
   "outputs": [],
   "source": [
    "#What is the output of expression inside print statement. Cross check before running the program.\n",
    "a = 10\n",
    "b = 10\n",
    "print(a is b)          #True or False? True\n",
    "print(a is not b)      #True or False? False\n",
    "\n",
    "a = 1000\n",
    "b = 1000\n",
    "print(a is b)          #True or False?  False\n",
    "print(a is not b)      #True or False?  True"
   ]
  },
  {
   "cell_type": "code",
   "execution_count": null,
   "metadata": {
    "colab": {},
    "colab_type": "code",
    "id": "Un2To3XN1_Il"
   },
   "outputs": [],
   "source": [
    "#What is the output of expression inside print statement. Cross check before running the program.\n",
    "print(10+(10*32)5//2**&20+(~(-10))<<2)\n",
    "# 1)10*32=320\n",
    "# 2)2**5=32\n",
    "# 3)320//32-------=20\n",
    "# 4)~(-10)=9\n",
    "# 5)20+9=29\n",
    "# 6)29<<2---------=116\n",
    "# 7)20&116-------->20\n"
   ]
  },
  {
   "cell_type": "code",
   "execution_count": null,
   "metadata": {
    "colab": {},
    "colab_type": "code",
    "id": "kGRb5RMd1_1I"
   },
   "outputs": [],
   "source": [
    "#Membership operation\n",
    "#in, not in are two membership operators and it returns boolean value\n",
    "\n",
    "print('2' in 'Python2.7.8')              # true\n",
    "print(10 in [10,10.20,10+20j,'Python'])  # true\n",
    "print(10 in (10,10.20,10+20j,'Python'))  # true\n",
    "print(2 in {1,2,3})                      # true\n",
    "print(3 in {1:100, 2:200, 3:300})        # true\n",
    "print(10 in range(20))                   # true\n",
    "\n"
   ]
  },
  {
   "cell_type": "code",
   "execution_count": 13,
   "metadata": {
    "colab": {},
    "colab_type": "code",
    "id": "Es7iSvL92B9W"
   },
   "outputs": [
    {
     "name": "stdout",
     "output_type": "stream",
     "text": [
      "('0b110', '0o6', '0x6')\n",
      "10 27089 58181\n",
      "\n",
      "0b10011010010100 0o23224 0x2694\n"
     ]
    }
   ],
   "source": [
    "#An integer can be represented in binary, octal or hexadecimal form.\n",
    "\n",
    "a=6\n",
    "print((bin(a),oct(a),hex(a)))\n",
    "#Declare one binary, one octal and one hexadecimal value and store them in three different variables.\n",
    "b=0b1010\n",
    "c=0o64721\n",
    "d=0xe345\n",
    "print((b),(c),(d))\n",
    "# #Convert 9876 to its binary, octal and hexadecimal equivalent and print their corresponding value.\n",
    "print()\n",
    "print(bin(9876),oct(9876),hex(9876))"
   ]
  },
  {
   "cell_type": "code",
   "execution_count": null,
   "metadata": {},
   "outputs": [],
   "source": [
    "#What will be the outut of following:-\n",
    "a = 0b1010000\n",
    "print(a)\n",
    "#Decimal value      :80\n",
    "b = 0o7436\n",
    "print(b)\n",
    "#Decimal value      :3870\n",
    "c = 0xfade\n",
    "print(c)\n",
    "#Decimal value      :64222\n",
    "print(bin(80))\n",
    "#Binary value       :0b1010000\n",
    "print(oct(3870))\n",
    "#octal value        :0o7436\n",
    "print(hex(64222))\n",
    "#hexadecimal value  :0xfade\n",
    "print(bin(0b1010000))\n",
    "#Binary value       :0b1010000\n",
    "print(bin(0xfade))\n",
    "#Binary value       :0b1111101011011110\n",
    "print(oct(0xfade))\n",
    "#octal value        :0o175336\n",
    "print(oct(0o7436))\n",
    "#octal value       :0o7436\n",
    "print(hex(0b1010000))\n",
    "#hexadecimal value :0x50\n",
    "print(hex(0xfade))\n",
    "#hexadecimal value :0xfade"
   ]
  }
 ],
 "metadata": {
  "colab": {
   "name": "Copy of int_assignment.ipynb",
   "provenance": [
    {
     "file_id": "1xKTiwwjfS8osJMid7tI_vxldcTjwU-_B",
     "timestamp": 1593506003163
    }
   ]
  },
  "kernelspec": {
   "display_name": "Python 3",
   "language": "python",
   "name": "python3"
  },
  "language_info": {
   "codemirror_mode": {
    "name": "ipython",
    "version": 3
   },
   "file_extension": ".py",
   "mimetype": "text/x-python",
   "name": "python",
   "nbconvert_exporter": "python",
   "pygments_lexer": "ipython3",
   "version": "3.7.6"
  }
 },
 "nbformat": 4,
 "nbformat_minor": 1
}
