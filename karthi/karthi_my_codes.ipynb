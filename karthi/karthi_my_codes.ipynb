{
 "cells": [
  {
   "cell_type": "code",
   "execution_count": null,
   "metadata": {},
   "outputs": [],
   "source": [
    "# Operator Precedence\n",
    "# ()\n",
    "# **\n",
    "# ~,- Bitwise complement and unary Minus\n",
    "# *,/,%,//\n",
    "# +,-\n",
    "# <<,>>\n",
    "# &\n",
    "# ^\n",
    "# |\n",
    "# >,>=,<,<=,==,!=\n",
    "# =,+=,-=...\n",
    "# is, is not\n",
    "# in, not in\n",
    "# not\n",
    "# and\n",
    "# or\n",
    "\n",
    "# Conditional statements, loop,"
   ]
  },
  {
   "cell_type": "code",
   "execution_count": null,
   "metadata": {},
   "outputs": [],
   "source": [
    "# if, elif,else\n",
    "\n",
    "if expression(True/False):\n",
    "    logic"
   ]
  },
  {
   "cell_type": "code",
   "execution_count": null,
   "metadata": {},
   "outputs": [],
   "source": [
    "stat1\n",
    "stat2\n",
    "stat3\n",
    "stat4\n",
    "stat5\n",
    "stat6\n",
    "stat7\n",
    "stat8\n",
    "stat9\n",
    "\n"
   ]
  },
  {
   "cell_type": "code",
   "execution_count": 8,
   "metadata": {},
   "outputs": [
    {
     "name": "stdout",
     "output_type": "stream",
     "text": [
      "Enter 1st number: 100\n",
      "Enter 2nd number: 200\n",
      "Enter 3rd number: 300\n",
      "num1 is greater than num2\n",
      "-100\n",
      "100\n",
      "200\n"
     ]
    }
   ],
   "source": [
    "# if statement and nested if statement\n",
    "# stat1\n",
    "# stat2\n",
    "# if expression:\n",
    "#     stat3\n",
    "#     stat4\n",
    "#     stat5\n",
    "#     if expression:\n",
    "#         stat6\n",
    "#         stat7\n",
    "# stat8\n",
    "# stat9\n",
    "\n",
    "num1 = int(input('Enter 1st number: '))\n",
    "num2 = int(input('Enter 2nd number: '))\n",
    "num3 = int(input('Enter 3rd number: '))\n",
    "if 100:\n",
    "    print('num1 is greater than num2')\n",
    "    print(num1-num2)\n",
    "    print(num1)\n",
    "    print(num2)\n",
    "    if num1>num3:\n",
    "        print('num1 is greater than num3')\n",
    "        print(num1-num3)\n",
    "        print(num3)\n",
    "    else:\n",
    "        print('num1 is not greater than num3')"
   ]
  },
  {
   "cell_type": "code",
   "execution_count": 1,
   "metadata": {},
   "outputs": [
    {
     "ename": "SyntaxError",
     "evalue": "invalid syntax (<ipython-input-1-1411886bf445>, line 27)",
     "output_type": "error",
     "traceback": [
      "\u001b[1;36m  File \u001b[1;32m\"<ipython-input-1-1411886bf445>\"\u001b[1;36m, line \u001b[1;32m27\u001b[0m\n\u001b[1;33m    else:\u001b[0m\n\u001b[1;37m       ^\u001b[0m\n\u001b[1;31mSyntaxError\u001b[0m\u001b[1;31m:\u001b[0m invalid syntax\n"
     ]
    }
   ],
   "source": [
    "# If - else and else is completely optional\n",
    "# stat1\n",
    "# stat2\n",
    "# if expression:\n",
    "#     stat3\n",
    "#     stat4\n",
    "#     stat5\n",
    "# else:    \n",
    "#     stat6\n",
    "#     stat7\n",
    "#     stat8\n",
    "# stat9\n",
    "\n",
    "# num1 = int(input('Enter 1st number: '))\n",
    "# num2 = int(input('Enter 2nd number: '))\n",
    "# if num1>num2:\n",
    "#     print('num1 is greater than num2')\n",
    "\n",
    "# else:\n",
    "#     print('num1 is not greater than num2')\n",
    "#     print(num2-num1)\n",
    "#     print(num1)\n",
    "#     print(num2)\n",
    "# print(num1-num2)\n",
    "# print(num1)\n",
    "# print(num2)\n",
    "# else:\n",
    "    print('Hi')\n"
   ]
  },
  {
   "cell_type": "code",
   "execution_count": 16,
   "metadata": {},
   "outputs": [],
   "source": [
    "# Multi condition if statment - if elif\n",
    "# stat1\n",
    "# stat2\n",
    "# if expression:\n",
    "#     stat3\n",
    "#     stat4\n",
    "#     stat5\n",
    "# elif expression:\n",
    "#     stat11\n",
    "#     stat12\n",
    "#     stat13\n",
    "# elif expression:\n",
    "#     stat21\n",
    "#     stat22\n",
    "#     stat23   \n",
    "# else:    \n",
    "#     stat6\n",
    "#     stat7\n",
    "#     stat8\n",
    "# stat9\n",
    "\n",
    "\n",
    "# num1 = int(input('Enter 1st number: '))\n",
    "# num2 = int(input('Enter 2nd number: '))\n",
    "# num3 = int(input('Enter 3rd number: '))\n",
    "# if num1>num2 and num1>num3:\n",
    "#     print('num1 is greater than num2 and num3')\n",
    "#     print(num1)\n",
    "#     print(num2)\n",
    "#     print(num3)\n",
    "# elif num2>num3:\n",
    "#     print('num2 is greater than num1 and num3')\n",
    "# else:\n",
    "#     print('num3 is greater than num1 and num2')\n",
    "\n",
    "\n",
    "\n",
    "\n"
   ]
  },
  {
   "cell_type": "code",
   "execution_count": 23,
   "metadata": {
    "scrolled": true
   },
   "outputs": [
    {
     "name": "stdout",
     "output_type": "stream",
     "text": [
      "100\n",
      "Enter some number20\n",
      "100 <class 'int'>\n",
      "5.0\n"
     ]
    }
   ],
   "source": [
    "a = int(input())\n",
    "b = float(input('Enter some number'))\n",
    "print(a, type(a))\n",
    "print(a/b)\n",
    "\n",
    "# Type casting using built in function is possible only for fundamental data type\n",
    "# For derived data type - eval()  to do the type casting"
   ]
  },
  {
   "cell_type": "code",
   "execution_count": 42,
   "metadata": {},
   "outputs": [
    {
     "name": "stdout",
     "output_type": "stream",
     "text": [
      "Enter an year: 2004\n",
      "2004 is a Leap Year\n"
     ]
    }
   ],
   "source": [
    "# Write a code to find whether an year is leap year\n",
    "# leap year:- 1200,1600,2000,2004,2020\n",
    "# Non Leap year - 1967, 1700,1900\n",
    "\n",
    "# If yesr is divisible by 4 - leap year\n",
    "# If year is divisible by 4 and 100 - check whether divisible by 400 - If True - Leap year and if False - Non leap year\n",
    "# if not divisible by 4 then non leap year\n",
    "\n",
    "year = int(input('Enter an year: '))\n",
    "# if year % 4 == 0:\n",
    "#     if year % 100 == 0:\n",
    "#         if year % 400 == 0:\n",
    "#             print('Year is leap year')\n",
    "#         else:\n",
    "#             print('Year is not leap year')\n",
    "#     else:\n",
    "#         print('Year is leap year')\n",
    "# else:\n",
    "#     print('Year is not leap year')\n",
    "\n",
    "\n",
    "if (year%400 == 0 or ( year%4 == 0  and  year%100 != 0)):\n",
    "#     print(\"%d is a Leap Year\" %year)\n",
    "# else:\n",
    "#     print(\"%d is Not the Leap Year\" %year)\n",
    "\n",
    "    print(\"{} is a Leap Year\".format(year))\n",
    "else:\n",
    "    print(\"{} is Not the Leap Year\".format(year))\n"
   ]
  },
  {
   "cell_type": "code",
   "execution_count": 41,
   "metadata": {},
   "outputs": [
    {
     "name": "stdout",
     "output_type": "stream",
     "text": [
      "10\t20\t30\t40\t"
     ]
    }
   ],
   "source": [
    "# Output formatting\n",
    "# print(10,20,30,40)\n",
    "# print(10,20,30,40, sep = ' ')\n",
    "\n",
    "# print(10, end = '\\t')\n",
    "# print(20, end = '\\t')\n",
    "# print(30, end = '\\t')\n",
    "# print(40, end = '\\t')\n"
   ]
  },
  {
   "cell_type": "code",
   "execution_count": 45,
   "metadata": {},
   "outputs": [
    {
     "name": "stdout",
     "output_type": "stream",
     "text": [
      "Enter 1st number: 100\n",
      "Enter 2nd number: 200\n",
      "Enter 3rd number: 30\n",
      "num2 -> 200 is greater than num1 -> 100 and num3 -> 30\n"
     ]
    }
   ],
   "source": [
    "num1 = int(input('Enter 1st number: '))\n",
    "num2 = int(input('Enter 2nd number: '))\n",
    "num3 = int(input('Enter 3rd number: '))\n",
    "if num1>num2 and num1>num3:\n",
    "    print('num1 -> {} is greater than num2 -> {} and num3 -> {}'.format(num1, num2,num3))\n",
    "    print(num1)\n",
    "    print(num2)\n",
    "    print(num3)\n",
    "elif num2>num3:\n",
    "    print('num2 -> {} is greater than num1 -> {} and num3 -> {}'.format(num2, num1,num3))\n",
    "else:\n",
    "    print('num3 -> {} is greater than num2 -> {} and num1 -> {}'.format(num3, num2,num1))"
   ]
  },
  {
   "cell_type": "code",
   "execution_count": 46,
   "metadata": {},
   "outputs": [
    {
     "name": "stdout",
     "output_type": "stream",
     "text": [
      "Enter 1st number: 100\n",
      "Enter 2nd number: 20\n",
      "Enter 3rd number: 300\n",
      "num3 -> 300 is greater than num2 -> 20 and num1 -> 100\n"
     ]
    }
   ],
   "source": [
    "num1 = int(input('Enter 1st number: '))\n",
    "num2 = int(input('Enter 2nd number: '))\n",
    "num3 = int(input('Enter 3rd number: '))\n",
    "if num1>num2 and num1>num3:\n",
    "    print(f'num1 -> {num1} is greater than num2 -> {num2} and num3 -> {num}')\n",
    "    print(num1)\n",
    "    print(num2)\n",
    "    print(num3)\n",
    "elif num2>num3:\n",
    "    print(f'num2 -> {num2} is greater than num1 -> {num1} and num3 -> {num3}')\n",
    "else:\n",
    "    print(f'num3 -> {num3} is greater than num2 -> {num2} and num1 -> {num1}')"
   ]
  },
  {
   "cell_type": "code",
   "execution_count": 1,
   "metadata": {},
   "outputs": [
    {
     "name": "stdout",
     "output_type": "stream",
     "text": [
      "Enter the value:45\n",
      "45 is not divisible by 5 and 11\n"
     ]
    }
   ],
   "source": [
    "# WAP to check whether a number is divisible by 5 and 11\n",
    "a=int(input(\"Enter the value:\"))\n",
    "if a%5==0 and a%11==0:\n",
    "    print(f'{a} is divisible by 5 and 11')\n",
    "else:\n",
    "    print(f'{a} is not divisible by 5 and 11')"
   ]
  },
  {
   "cell_type": "code",
   "execution_count": 7,
   "metadata": {
    "scrolled": true
   },
   "outputs": [
    {
     "name": "stdout",
     "output_type": "stream",
     "text": [
      "Enter the value:z\n",
      "is alphabet\n"
     ]
    }
   ],
   "source": [
    "# Write a program to check whether a character is alphabet or not.\n",
    "\n",
    "alp = str(input(\"Enter the value:\"))\n",
    "\n",
    "# if ((b<='a'and b>='z') or (b=>'A' and b<='Z')):\n",
    "#     print (\"this is alphabet\")\n",
    "# else:\n",
    "#     print(\"this is not alphabet\")\n",
    "\n",
    "if (chr(96)<alp<chr(123)) or (chr(64)<alp<chr(91)):\n",
    "    print('is alphabet')\n",
    "else:\n",
    "    print('not')\n",
    "\n"
   ]
  },
  {
   "cell_type": "code",
   "execution_count": 3,
   "metadata": {},
   "outputs": [
    {
     "name": "stdout",
     "output_type": "stream",
     "text": [
      "Enter the value:35\n",
      "35 is even number\n"
     ]
    }
   ],
   "source": [
    "# Write a program to check whether a number is even or odd.\n",
    "a=int(input(\"Enter the value:\"))\n",
    "if a%2==0 :\n",
    "    print(f'{a} is even number')\n",
    "else:\n",
    "    print(f'{a} is odd number')"
   ]
  },
  {
   "cell_type": "code",
   "execution_count": 14,
   "metadata": {},
   "outputs": [
    {
     "name": "stdout",
     "output_type": "stream",
     "text": [
      "enter a alphabet: 2\n",
      "none\n"
     ]
    }
   ],
   "source": [
    "# Write a program to input any alphabet and check whether it is vowel or consonant.\n",
    "\n",
    "alp = str(input('enter a alphabet: '))\n",
    "\n",
    "if (alp=='a' or alp =='e' or alp=='i' or alp=='o' or alp=='u'or alp=='A' or alp =='E' or alp=='I' or alp=='O' or alp=='U'):\n",
    "    print('vowel')\n",
    "else:\n",
    "    print('none')"
   ]
  },
  {
   "cell_type": "code",
   "execution_count": 8,
   "metadata": {},
   "outputs": [
    {
     "name": "stdout",
     "output_type": "stream",
     "text": [
      "Enter a char: a\n",
      "is alphabet\n"
     ]
    }
   ],
   "source": [
    "# Write a program to input any character and check whether it is alphabet, digit or special character.\n",
    "chrr = input('Enter a char: ')\n",
    "if (chr(96)<chrr<chr(123)) or (chr(64)<chrr<chr(91)):\n",
    "    print('is alphabet')\n",
    "elif (chr(47)<chrr<chr(58)):\n",
    "    print('is digit')\n",
    "elif ((chr(32)<chrr<chr(48)) or (chr(57)<chrr<chr(65))) or ((chr(90)<chrr<chr(97)) or (chr(122)<chrr<chr(127))):\n",
    "    print('is sp chr')\n",
    "else:\n",
    "    print('Not valid')"
   ]
  },
  {
   "cell_type": "code",
   "execution_count": null,
   "metadata": {},
   "outputs": [],
   "source": [
    "# Write a  program to check whether a character is uppercase or lowercase alphabet.\n",
    "\n",
    "alp = str(input(\"Enter the value:\"))\n",
    "\n",
    "if (chr(96)<alp<chr(123)):\n",
    "    print('is lower')\n",
    "elif (chr(64)<alp<chr(91)):\n",
    "    print('is upper')\n",
    "else:\n",
    "    print('not')"
   ]
  },
  {
   "cell_type": "code",
   "execution_count": 7,
   "metadata": {},
   "outputs": [
    {
     "name": "stdout",
     "output_type": "stream",
     "text": [
      "Enter the value:8\n",
      "Not in range\n"
     ]
    }
   ],
   "source": [
    "# Write a program to input week number and print week day.\n",
    "\n",
    "a=int(input(\"Enter the value:\"))\n",
    "# if a==1:\n",
    "#     print('Sunday')\n",
    "# elif a==2:\n",
    "#     print('Monday')\n",
    "# elif a==3: \n",
    "#     print('Tuesday')\n",
    "# elif a==4:    \n",
    "#     print('Wednesday')\n",
    "# elif a==5:    \n",
    "#     print('Thursday')\n",
    "# elif a==6:    \n",
    "#     print('Friday')\n",
    "# elif a==7:    \n",
    "#     print('satusday')\n",
    "# else:\n",
    "#     print(\"There is no day in the week\")\n",
    "\n",
    "d=['','monday','tuesday','wednesday','thursday','friday','saturday','sunday']\n",
    "if 0<a<=7:\n",
    "    print(d[a])\n",
    "else:\n",
    "    print('Not in range')"
   ]
  },
  {
   "cell_type": "code",
   "execution_count": 6,
   "metadata": {},
   "outputs": [
    {
     "name": "stdout",
     "output_type": "stream",
     "text": [
      "Enter the value:8\n",
      "31 days\n"
     ]
    }
   ],
   "source": [
    "# Write a program to input month number and print number of days in that month.\n",
    "\n",
    "a=int(input(\"Enter the value:\"))\n",
    "\n",
    "# if a==1:\n",
    "#     print('31 days')\n",
    "# elif a==2:\n",
    "#     print('28 days except leap year month')\n",
    "# elif a==3: \n",
    "#     print('31 days')\n",
    "# elif a==4:    \n",
    "#     print('30 days')\n",
    "# elif a==5:    \n",
    "#     print('31 days')\n",
    "# elif a==6:    \n",
    "#     print('30 days')\n",
    "# if a==7:\n",
    "#     print('31 days')\n",
    "# elif a==8:\n",
    "#     print('31 days')\n",
    "# elif a==9: \n",
    "#     print('30 days')\n",
    "# elif a==10:    \n",
    "#     print('31 days')\n",
    "# elif a==11:    \n",
    "#     print('30 days')\n",
    "# elif a==12:    \n",
    "#     print('31 days')\n",
    "# else:\n",
    "#     print(\"There is no month in the year\")\n",
    "\n",
    "h=[1,3,5,7,8,10,12]\n",
    "l=[4,6,9,11]\n",
    "if a in h:\n",
    "    print('31 days')\n",
    "elif a ==2:\n",
    "    print('28/29 days')\n",
    "elif a in l:\n",
    "    print('30 days')\n",
    "else:\n",
    "    print('not in range')"
   ]
  },
  {
   "cell_type": "code",
   "execution_count": null,
   "metadata": {},
   "outputs": [],
   "source": [
    "# Write a program to input angles of a triangle and check whether triangle is valid or not.\n",
    "a = int(input('Please Enter the First Angle of a Triangle: '))\n",
    "b = int(input('Please Enter the Second Angle of a Triangle: '))\n",
    "c = int(input('Please Enter the Third Angle of a Triangle: '))\n",
    "\n",
    "# checking Triangle is Valid or Not\n",
    "total = a + b + c\n",
    "\n",
    "if total == 180:\n",
    "    print(\"\\nThis is a Valid Triangle\")\n",
    "else:\n",
    "    print(\"\\nThis is an Invalid Triangle\")"
   ]
  },
  {
   "cell_type": "code",
   "execution_count": null,
   "metadata": {},
   "outputs": [],
   "source": [
    "# Write a program to find all roots of a quadratic equation.\n",
    "a=eval(input('Enter the value for a:'))\n",
    "b=eval(input('Enter the value for b:'))\n",
    "c=eval(input('Enter the value for c:'))\n",
    "from math import sqrt\n",
    "d=(b**2)-(4*a*c)\n",
    "if d>0:\n",
    "    sol1=((-b)+sqrt(d)/(2*a))\n",
    "    sol2=((-b)-sqrt(d)/(2*a))\n",
    "    print(f'There is only two root for a={a} b={b} c={c}: {sol1} {sol2}')\n",
    "elif d==0:\n",
    "    sol1=(-b/(2*a))\n",
    "    print(f'There is only one root for a={a} b={b} c={c}: {sol1}')\n",
    "else:\n",
    "    print(f'There is no real number for a={a} b={b} c={c}')"
   ]
  },
  {
   "cell_type": "code",
   "execution_count": 1,
   "metadata": {},
   "outputs": [],
   "source": []
  },
  {
   "cell_type": "code",
   "execution_count": null,
   "metadata": {},
   "outputs": [],
   "source": []
  },
  {
   "cell_type": "code",
   "execution_count": null,
   "metadata": {},
   "outputs": [],
   "source": [
    "\n"
   ]
  },
  {
   "cell_type": "code",
   "execution_count": null,
   "metadata": {},
   "outputs": [],
   "source": []
  }
 ],
 "metadata": {
  "kernelspec": {
   "display_name": "Python 3",
   "language": "python",
   "name": "python3"
  },
  "language_info": {
   "codemirror_mode": {
    "name": "ipython",
    "version": 3
   },
   "file_extension": ".py",
   "mimetype": "text/x-python",
   "name": "python",
   "nbconvert_exporter": "python",
   "pygments_lexer": "ipython3",
   "version": "3.7.6"
  }
 },
 "nbformat": 4,
 "nbformat_minor": 2
}
