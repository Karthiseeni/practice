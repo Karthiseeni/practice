{
 "cells": [
  {
   "cell_type": "code",
   "execution_count": null,
   "metadata": {},
   "outputs": [],
   "source": [
    "# WAP to check whether a number is divisible by 5 and 11\n",
    "a=int(input(\"Enter the value:\"))\n",
    "if a%5==0 and a%11==0:\n",
    "    print(f'{a} is divisible by 5 and 11')\n",
    "else:\n",
    "    print(f'{a} is not divisible by 5 and 11')"
   ]
  },
  {
   "cell_type": "code",
   "execution_count": null,
   "metadata": {},
   "outputs": [],
   "source": [
    "# Write a program to check whether a character is alphabet or not.\n",
    "\n",
    "alp = str(input(\"Enter the value:\"))\n",
    "\n",
    "# if ((b<='a'and b>='z') or (b=>'A' and b<='Z')):\n",
    "#     print (\"this is alphabet\")\n",
    "# else:\n",
    "#     print(\"this is not alphabet\")\n",
    "\n",
    "if (chr(96)<alp<chr(123)) or (chr(64)<alp<chr(91)):\n",
    "    print('is alphabet')\n",
    "else:\n",
    "    print('not')\n"
   ]
  },
  {
   "cell_type": "code",
   "execution_count": null,
   "metadata": {},
   "outputs": [],
   "source": [
    "# Write a program to check whether a number is even or odd.\n",
    "a=int(input(\"Enter the value:\"))\n",
    "if a%2==0 :\n",
    "    print(f'{a} is even number')\n",
    "else:\n",
    "    print(f'{a} is odd number')"
   ]
  },
  {
   "cell_type": "code",
   "execution_count": null,
   "metadata": {},
   "outputs": [],
   "source": [
    "# Write a program to input any alphabet and check whether it is vowel or consonant.\n",
    "\n",
    "alp = str(input('enter a alphabet: '))\n",
    "\n",
    "if (alp=='a' or alp =='e' or alp=='i' or alp=='o' or alp=='u'or alp=='A' or alp =='E' or alp=='I' or alp=='O' or alp=='U'):\n",
    "    print('vowel')\n",
    "else:\n",
    "    print('none')"
   ]
  },
  {
   "cell_type": "code",
   "execution_count": null,
   "metadata": {},
   "outputs": [],
   "source": [
    "# Write a program to input any character and check whether it is alphabet, digit or special character.\n",
    "chrr = input('Enter a char: ')\n",
    "if (chr(96)<chrr<chr(123)) or (chr(64)<chrr<chr(91)):\n",
    "    print('is alphabet')\n",
    "elif (chr(47)<chrr<chr(58)):\n",
    "    print('is digit')\n",
    "elif ((chr(32)<chrr<chr(48)) or (chr(57)<chrr<chr(65))) or ((chr(90)<chrr<chr(97)) or (chr(122)<chrr<chr(127))):\n",
    "    print('is sp chr')\n",
    "else:\n",
    "    print('Not valid')"
   ]
  },
  {
   "cell_type": "code",
   "execution_count": null,
   "metadata": {},
   "outputs": [],
   "source": [
    "# Write a  program to check whether a character is uppercase or lowercase alphabet.\n",
    "\n",
    "alp = str(input(\"Enter the value:\"))\n",
    "\n",
    "if (chr(96)<alp<chr(123)):\n",
    "    print('is lower')\n",
    "elif (chr(64)<alp<chr(91)):\n",
    "    print('is upper')\n",
    "else:\n",
    "    print('not')"
   ]
  },
  {
   "cell_type": "code",
   "execution_count": null,
   "metadata": {},
   "outputs": [],
   "source": [
    "# Write a program to input week number and print week day.\n",
    "\n",
    "a=int(input(\"Enter the value:\"))\n",
    "# if a==1:\n",
    "#     print('Sunday')\n",
    "# elif a==2:\n",
    "#     print('Monday')\n",
    "# elif a==3: \n",
    "#     print('Tuesday')\n",
    "# elif a==4:    \n",
    "#     print('Wednesday')\n",
    "# elif a==5:    \n",
    "#     print('Thursday')\n",
    "# elif a==6:    \n",
    "#     print('Friday')\n",
    "# elif a==7:    \n",
    "#     print('satusday')\n",
    "# else:\n",
    "#     print(\"There is no day in the week\")\n",
    "\n",
    "d=['','monday','tuesday','wednesday','thursday','friday','saturday','sunday']\n",
    "if 0<a<=7:\n",
    "    print(d[a])\n",
    "else:\n",
    "    print('Not in range')"
   ]
  },
  {
   "cell_type": "code",
   "execution_count": null,
   "metadata": {},
   "outputs": [],
   "source": [
    "# Write a program to input month number and print number of days in that month.\n",
    "\n",
    "a=int(input(\"Enter the value:\"))\n",
    "\n",
    "# if a==1:\n",
    "#     print('31 days')\n",
    "# elif a==2:\n",
    "#     print('28 days except leap year month')\n",
    "# elif a==3: \n",
    "#     print('31 days')\n",
    "# elif a==4:    \n",
    "#     print('30 days')\n",
    "# elif a==5:    \n",
    "#     print('31 days')\n",
    "# elif a==6:    \n",
    "#     print('30 days')\n",
    "# if a==7:\n",
    "#     print('31 days')\n",
    "# elif a==8:\n",
    "#     print('31 days')\n",
    "# elif a==9: \n",
    "#     print('30 days')\n",
    "# elif a==10:    \n",
    "#     print('31 days')\n",
    "# elif a==11:    \n",
    "#     print('30 days')\n",
    "# elif a==12:    \n",
    "#     print('31 days')\n",
    "# else:\n",
    "#     print(\"There is no month in the year\")\n",
    "\n",
    "h=[1,3,5,7,8,10,12]\n",
    "l=[4,6,9,11]\n",
    "if a in h:\n",
    "    print('31 days')\n",
    "elif a ==2:\n",
    "    print('28/29 days')\n",
    "elif a in l:\n",
    "    print('30 days')\n",
    "else:\n",
    "    print('not in range')"
   ]
  },
  {
   "cell_type": "code",
   "execution_count": null,
   "metadata": {},
   "outputs": [],
   "source": [
    "# Write a program to input angles of a triangle and check whether triangle is valid or not.\n",
    "a = int(input('Please Enter the First Angle of a Triangle: '))\n",
    "b = int(input('Please Enter the Second Angle of a Triangle: '))\n",
    "c = int(input('Please Enter the Third Angle of a Triangle: '))\n",
    "\n",
    "# checking Triangle is Valid or Not\n",
    "total = a + b + c\n",
    "\n",
    "if total == 180:\n",
    "    print(\"\\nThis is a Valid Triangle\")\n",
    "else:\n",
    "    print(\"\\nThis is an Invalid Triangle\")"
   ]
  },
  {
   "cell_type": "code",
   "execution_count": null,
   "metadata": {},
   "outputs": [],
   "source": [
    "# Write a program to find all roots of a quadratic equation.\n",
    "a=eval(input('Enter the value for a:'))\n",
    "b=eval(input('Enter the value for b:'))\n",
    "c=eval(input('Enter the value for c:'))\n",
    "from math import sqrt\n",
    "d=(b**2)-(4*a*c)\n",
    "if d>0:\n",
    "    sol1=((-b)+sqrt(d)/(2*a))\n",
    "    sol2=((-b)-sqrt(d)/(2*a))\n",
    "    print(f'There is only two root for a={a} b={b} c={c}: {sol1} {sol2}')\n",
    "elif d==0:\n",
    "    sol1=(-b/(2*a))\n",
    "    print(f'There is only one root for a={a} b={b} c={c}: {sol1}')\n",
    "else:\n",
    "    print(f'There is no real number for a={a} b={b} c={c}')"
   ]
  }
 ],
 "metadata": {
  "kernelspec": {
   "display_name": "Python 3",
   "language": "python",
   "name": "python3"
  },
  "language_info": {
   "codemirror_mode": {
    "name": "ipython",
    "version": 3
   },
   "file_extension": ".py",
   "mimetype": "text/x-python",
   "name": "python",
   "nbconvert_exporter": "python",
   "pygments_lexer": "ipython3",
   "version": "3.7.6"
  }
 },
 "nbformat": 4,
 "nbformat_minor": 4
}
